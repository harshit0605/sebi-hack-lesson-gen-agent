{
 "cells": [
  {
   "cell_type": "code",
   "execution_count": 29,
   "id": "700c5ac0",
   "metadata": {},
   "outputs": [],
   "source": [
    "import re\n",
    "from bs4 import SoupStrainer\n",
    "from langchain_community.document_loaders import WebBaseLoader\n",
    "from langchain_core.documents import Document\n",
    "from langchain_openai import OpenAIEmbeddings\n",
    "from langchain_chroma import Chroma\n",
    "\n",
    "def clean_text(text: str) -> str:\n",
    "    # Collapse multiple newlines into a single newline\n",
    "    text = re.sub(r'\\n+', '\\n', text)\n",
    "    return text.strip()\n",
    "\n",
    "def scrape_and_clean(url: str, div_class: str = \"page-content-ab\") -> Document:\n",
    "    \"\"\"Scrape a webpage, extract main div text, clean it, and return Document.\"\"\"\n",
    "    loader = WebBaseLoader(\n",
    "        url,\n",
    "        bs_kwargs={\"parse_only\": SoupStrainer(\"div\", class_=div_class)}\n",
    "    )\n",
    "    docs = loader.load()\n",
    "    cleaned_docs = []\n",
    "\n",
    "    for doc in docs:\n",
    "        cleaned = clean_text(doc.page_content)\n",
    "\n",
    "        # Split into title + body\n",
    "        lines = cleaned.split(\"\\n\", 1)\n",
    "        title = lines[0].strip() if lines else \"\"\n",
    "        body = lines[1].strip() if len(lines) > 1 else \"\"\n",
    "\n",
    "        new_doc = Document(\n",
    "            page_content=body,\n",
    "            metadata={**doc.metadata, \"page_title\": title}\n",
    "        )\n",
    "        cleaned_docs.append(new_doc)\n",
    "    return cleaned_docs\n",
    "\n"
   ]
  },
  {
   "cell_type": "code",
   "execution_count": 31,
   "id": "ca5edd6c",
   "metadata": {},
   "outputs": [
    {
     "name": "stdout",
     "output_type": "stream",
     "text": [
      "23\n"
     ]
    }
   ],
   "source": [
    "with open(r\"D:\\QA\\sebi_hackathon\\backend\\prototype\\data\\links.txt\", \"r\", encoding=\"utf-8\") as f:\n",
    "    urls = [line.strip() for line in f if line.strip()]\n",
    "\n",
    "print(len(urls))"
   ]
  },
  {
   "cell_type": "code",
   "execution_count": 32,
   "id": "c89ea94b",
   "metadata": {},
   "outputs": [
    {
     "name": "stdout",
     "output_type": "stream",
     "text": [
      "✅ Scraped 23 cleaned documents from 23 URLs\n"
     ]
    }
   ],
   "source": [
    "\n",
    "all_docs = []\n",
    "for url in urls:\n",
    "    all_docs.extend(scrape_and_clean(url))\n",
    "\n",
    "print(f\"✅ Scraped {len(all_docs)} cleaned documents from {len(urls)} URLs\")"
   ]
  },
  {
   "cell_type": "code",
   "execution_count": 33,
   "id": "2b8dd26d",
   "metadata": {},
   "outputs": [],
   "source": [
    "import getpass\n",
    "import os\n",
    "\n",
    "if not os.environ.get(\"OPENAI_API_KEY\"):\n",
    "  os.environ[\"OPENAI_API_KEY\"] = getpass.getpass(\"Enter API key for OpenAI: \")\n",
    "\n",
    "embeddings = OpenAIEmbeddings(model=\"text-embedding-3-small\")\n"
   ]
  },
  {
   "cell_type": "code",
   "execution_count": 34,
   "id": "ac215714",
   "metadata": {},
   "outputs": [],
   "source": [
    "vector_store = Chroma(\n",
    "    collection_name=\"sebi-resources\",\n",
    "    embedding_function=embeddings,\n",
    "    persist_directory=\"../data/chroma_langchain_db\",\n",
    ")"
   ]
  },
  {
   "cell_type": "code",
   "execution_count": 35,
   "id": "16aecbc8",
   "metadata": {},
   "outputs": [
    {
     "data": {
      "text/plain": [
       "Document(metadata={'source': 'https://www.nism.ac.in/understanding-needs-wants-and-desires/', 'page_title': 'Understanding needs, wants, and desires'}, page_content='Managing money is about taking care of income and expenses. The expenses include various regular expenses, financial goals, investments, tax payments, and payments towards insurance premiums, among others.\\nThe regular expenses or even some of the large lump sum expenses could be towards basic needs or towards wants or desires. While the three terms are often used interchangeably, they are not, and hence, it is important to understand the difference between them.\\nNeeds:\\nThese are things that are essential for our survival and well-being. Food, a roof over the head, water, clothing, and healthcare are among some examples of needs. It is not possible to live without these, and hence the needs assume priority when one plans one’s spending budget.\\nWants:\\nOnce the needs are met, we strive for things beyond those, for things that are not essential for our survival but enhance the quality of life. Entertainment, travel, and luxury items are some examples of wants. Ideally, one should plan for these items only after the basic needs are met.\\nDesires:\\nThe big difference between wants and desires could be in the form of affordability. There are a few items that we desire but may not have enough to fund their purchase. The driving force behind desires is often emotion.\\nAs things may not be affordable, we may have to resort to borrowing, which often tends to be irresponsible borrowing (see the article Think before you borrow money).\\nImportance of understanding the difference\\nIn the household budgeting exercise, it is critical to understand the difference between needs, wants, and desires. This helps prioritise the allocation of money first towards needs and then towards wants and desires.\\nIf we spend too much money on our desires or wants without providing for our needs, life may become difficult. In fact, in pursuing our desires, if we resort to borrowing, the interest on borrowing would add to costs and can potentially lead one into a debt trap.\\nTo summarise, needs are those things that are essential for our survival and well-being; wants enhance the quality of life but are not essential; and desires are things we crave but may not be able to afford.')"
      ]
     },
     "execution_count": 35,
     "metadata": {},
     "output_type": "execute_result"
    }
   ],
   "source": [
    "all_docs[0]\n",
    "# vector_store.add_documents(all_docs)\n"
   ]
  },
  {
   "cell_type": "code",
   "execution_count": null,
   "id": "df02a0e8",
   "metadata": {},
   "outputs": [],
   "source": []
  },
  {
   "cell_type": "code",
   "execution_count": null,
   "id": "c353496b",
   "metadata": {},
   "outputs": [],
   "source": []
  }
 ],
 "metadata": {
  "kernelspec": {
   "display_name": ".venv",
   "language": "python",
   "name": "python3"
  },
  "language_info": {
   "codemirror_mode": {
    "name": "ipython",
    "version": 3
   },
   "file_extension": ".py",
   "mimetype": "text/x-python",
   "name": "python",
   "nbconvert_exporter": "python",
   "pygments_lexer": "ipython3",
   "version": "3.12.1"
  }
 },
 "nbformat": 4,
 "nbformat_minor": 5
}
